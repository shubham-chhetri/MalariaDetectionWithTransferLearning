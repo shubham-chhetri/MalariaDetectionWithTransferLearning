{
 "cells": [
  {
   "cell_type": "markdown",
   "id": "2b333575",
   "metadata": {},
   "source": [
    "# The model detects if the image is infected or not by malaria using both transfer learning(using vgg19) and also it follows with our very own CNN network from scratch "
   ]
  },
  {
   "cell_type": "code",
   "execution_count": 1,
   "id": "f24291a6",
   "metadata": {},
   "outputs": [],
   "source": [
    "from tensorflow.keras.layers import Input, Lambda, Dense, Flatten,Conv2D\n",
    "from tensorflow.keras.models import Model\n",
    "from tensorflow.keras.applications.vgg19 import VGG19\n",
    "from tensorflow.keras.applications.resnet50 import preprocess_input\n",
    "from tensorflow.keras.preprocessing import image\n",
    "from tensorflow.keras.preprocessing.image import ImageDataGenerator,load_img\n",
    "from tensorflow.keras.models import Sequential\n",
    "import numpy as np\n",
    "from glob import glob\n",
    "import matplotlib.pyplot as plt"
   ]
  },
  {
   "cell_type": "code",
   "execution_count": 4,
   "id": "7fd1ab6f",
   "metadata": {},
   "outputs": [],
   "source": [
    "# re-size the images\n",
    "IMAGE_SIZE = [224, 224]"
   ]
  },
  {
   "cell_type": "code",
   "execution_count": 3,
   "id": "6b08d965",
   "metadata": {},
   "outputs": [
    {
     "name": "stdout",
     "output_type": "stream",
     "text": [
      "Downloading data from https://storage.googleapis.com/tensorflow/keras-applications/vgg19/vgg19_weights_tf_dim_ordering_tf_kernels_notop.h5\n",
      "80142336/80134624 [==============================] - 10s 0us/step\n"
     ]
    }
   ],
   "source": [
    "# Import the Vgg 19 and add preprocessing layer to the front of VGG\n",
    "# Here we will be using imagenet weights\n",
    "\n",
    "VGG19 = VGG19(input_shape=IMAGE_SIZE + [3], weights='imagenet', include_top=False)"
   ]
  },
  {
   "cell_type": "code",
   "execution_count": 14,
   "id": "805155ec",
   "metadata": {},
   "outputs": [],
   "source": [
    "folders = glob('Dataset/Train/*')"
   ]
  },
  {
   "cell_type": "code",
   "execution_count": 15,
   "id": "4ca056c0",
   "metadata": {},
   "outputs": [
    {
     "data": {
      "text/plain": [
       "['Dataset/Train\\\\Parasite', 'Dataset/Train\\\\Uninfected']"
      ]
     },
     "execution_count": 15,
     "metadata": {},
     "output_type": "execute_result"
    }
   ],
   "source": [
    "folders"
   ]
  },
  {
   "cell_type": "code",
   "execution_count": 17,
   "id": "9ab0c6ea",
   "metadata": {},
   "outputs": [],
   "source": [
    "# our layers\n",
    "x = Flatten()(VGG19.output)"
   ]
  },
  {
   "cell_type": "code",
   "execution_count": 18,
   "id": "ba6994ff",
   "metadata": {},
   "outputs": [],
   "source": [
    "prediction = Dense(len(folders), activation='softmax')(x)"
   ]
  },
  {
   "cell_type": "code",
   "execution_count": 20,
   "id": "7c0d1fb0",
   "metadata": {},
   "outputs": [],
   "source": [
    "# create a model object\n",
    "model = Model(inputs=VGG19.input, outputs=prediction)"
   ]
  },
  {
   "cell_type": "code",
   "execution_count": 21,
   "id": "424c00be",
   "metadata": {},
   "outputs": [
    {
     "name": "stdout",
     "output_type": "stream",
     "text": [
      "Model: \"functional_1\"\n",
      "_________________________________________________________________\n",
      "Layer (type)                 Output Shape              Param #   \n",
      "=================================================================\n",
      "input_1 (InputLayer)         [(None, 224, 224, 3)]     0         \n",
      "_________________________________________________________________\n",
      "block1_conv1 (Conv2D)        (None, 224, 224, 64)      1792      \n",
      "_________________________________________________________________\n",
      "block1_conv2 (Conv2D)        (None, 224, 224, 64)      36928     \n",
      "_________________________________________________________________\n",
      "block1_pool (MaxPooling2D)   (None, 112, 112, 64)      0         \n",
      "_________________________________________________________________\n",
      "block2_conv1 (Conv2D)        (None, 112, 112, 128)     73856     \n",
      "_________________________________________________________________\n",
      "block2_conv2 (Conv2D)        (None, 112, 112, 128)     147584    \n",
      "_________________________________________________________________\n",
      "block2_pool (MaxPooling2D)   (None, 56, 56, 128)       0         \n",
      "_________________________________________________________________\n",
      "block3_conv1 (Conv2D)        (None, 56, 56, 256)       295168    \n",
      "_________________________________________________________________\n",
      "block3_conv2 (Conv2D)        (None, 56, 56, 256)       590080    \n",
      "_________________________________________________________________\n",
      "block3_conv3 (Conv2D)        (None, 56, 56, 256)       590080    \n",
      "_________________________________________________________________\n",
      "block3_conv4 (Conv2D)        (None, 56, 56, 256)       590080    \n",
      "_________________________________________________________________\n",
      "block3_pool (MaxPooling2D)   (None, 28, 28, 256)       0         \n",
      "_________________________________________________________________\n",
      "block4_conv1 (Conv2D)        (None, 28, 28, 512)       1180160   \n",
      "_________________________________________________________________\n",
      "block4_conv2 (Conv2D)        (None, 28, 28, 512)       2359808   \n",
      "_________________________________________________________________\n",
      "block4_conv3 (Conv2D)        (None, 28, 28, 512)       2359808   \n",
      "_________________________________________________________________\n",
      "block4_conv4 (Conv2D)        (None, 28, 28, 512)       2359808   \n",
      "_________________________________________________________________\n",
      "block4_pool (MaxPooling2D)   (None, 14, 14, 512)       0         \n",
      "_________________________________________________________________\n",
      "block5_conv1 (Conv2D)        (None, 14, 14, 512)       2359808   \n",
      "_________________________________________________________________\n",
      "block5_conv2 (Conv2D)        (None, 14, 14, 512)       2359808   \n",
      "_________________________________________________________________\n",
      "block5_conv3 (Conv2D)        (None, 14, 14, 512)       2359808   \n",
      "_________________________________________________________________\n",
      "block5_conv4 (Conv2D)        (None, 14, 14, 512)       2359808   \n",
      "_________________________________________________________________\n",
      "block5_pool (MaxPooling2D)   (None, 7, 7, 512)         0         \n",
      "_________________________________________________________________\n",
      "flatten_1 (Flatten)          (None, 25088)             0         \n",
      "_________________________________________________________________\n",
      "dense (Dense)                (None, 2)                 50178     \n",
      "=================================================================\n",
      "Total params: 20,074,562\n",
      "Trainable params: 20,074,562\n",
      "Non-trainable params: 0\n",
      "_________________________________________________________________\n"
     ]
    }
   ],
   "source": [
    "model.summary()"
   ]
  },
  {
   "cell_type": "code",
   "execution_count": 23,
   "id": "ad9865ac",
   "metadata": {},
   "outputs": [],
   "source": [
    "#compile\n",
    "model.compile(\n",
    "  loss='categorical_crossentropy',\n",
    "  optimizer='adam',\n",
    "  metrics=['accuracy']\n",
    ")"
   ]
  },
  {
   "cell_type": "code",
   "execution_count": 9,
   "id": "7855fad1",
   "metadata": {},
   "outputs": [],
   "source": [
    "from tensorflow.keras.preprocessing.image import ImageDataGenerator\n",
    "\n",
    "train_datagen = ImageDataGenerator(rescale = 1./255,\n",
    "                                   shear_range = 0.2,\n",
    "                                   zoom_range = 0.2,\n",
    "                                   horizontal_flip = True)\n",
    "\n",
    "test_datagen = ImageDataGenerator(rescale = 1./255)"
   ]
  },
  {
   "cell_type": "code",
   "execution_count": 10,
   "id": "56be1350",
   "metadata": {},
   "outputs": [
    {
     "name": "stdout",
     "output_type": "stream",
     "text": [
      "Found 416 images belonging to 2 classes.\n"
     ]
    }
   ],
   "source": [
    "training_set = train_datagen.flow_from_directory('Dataset/Train',\n",
    "                                                 target_size = (224, 224),\n",
    "                                                 batch_size = 32,\n",
    "                                                 class_mode = 'categorical')"
   ]
  },
  {
   "cell_type": "code",
   "execution_count": 11,
   "id": "428fd827",
   "metadata": {},
   "outputs": [
    {
     "data": {
      "text/plain": [
       "<tensorflow.python.keras.preprocessing.image.DirectoryIterator at 0x141a249d040>"
      ]
     },
     "execution_count": 11,
     "metadata": {},
     "output_type": "execute_result"
    }
   ],
   "source": [
    "training_set"
   ]
  },
  {
   "cell_type": "code",
   "execution_count": 12,
   "id": "212c9b14",
   "metadata": {},
   "outputs": [
    {
     "name": "stdout",
     "output_type": "stream",
     "text": [
      "Found 134 images belonging to 2 classes.\n"
     ]
    }
   ],
   "source": [
    "test_set = test_datagen.flow_from_directory('Dataset/Test',\n",
    "                                            target_size = (224, 224),\n",
    "                                            batch_size = 32,\n",
    "                                            class_mode = 'categorical')"
   ]
  },
  {
   "cell_type": "code",
   "execution_count": 29,
   "id": "792c8660",
   "metadata": {},
   "outputs": [
    {
     "name": "stdout",
     "output_type": "stream",
     "text": [
      "WARNING:tensorflow:From <ipython-input-29-d9b505bb089a>:1: Model.fit_generator (from tensorflow.python.keras.engine.training) is deprecated and will be removed in a future version.\n",
      "Instructions for updating:\n",
      "Please use Model.fit, which supports generators.\n",
      "Epoch 1/8\n",
      "13/13 [==============================] - 502s 39s/step - loss: 6.6951 - accuracy: 0.4471 - val_loss: 0.7306 - val_accuracy: 0.3209\n",
      "Epoch 2/8\n",
      "13/13 [==============================] - 501s 39s/step - loss: 0.6999 - accuracy: 0.5000 - val_loss: 0.6938 - val_accuracy: 0.3209\n",
      "Epoch 3/8\n",
      "13/13 [==============================] - 499s 38s/step - loss: 0.7530 - accuracy: 0.4856 - val_loss: 0.6908 - val_accuracy: 0.6791\n",
      "Epoch 4/8\n",
      "13/13 [==============================] - 498s 38s/step - loss: 0.7044 - accuracy: 0.4784 - val_loss: 0.6934 - val_accuracy: 0.3209\n",
      "Epoch 5/8\n",
      "13/13 [==============================] - 497s 38s/step - loss: 0.6932 - accuracy: 0.4856 - val_loss: 0.6927 - val_accuracy: 0.6791\n",
      "Epoch 6/8\n",
      "13/13 [==============================] - 497s 38s/step - loss: 0.6930 - accuracy: 0.5288 - val_loss: 0.6921 - val_accuracy: 0.6791\n",
      "Epoch 7/8\n",
      "13/13 [==============================] - 501s 39s/step - loss: 0.6929 - accuracy: 0.5288 - val_loss: 0.6913 - val_accuracy: 0.6791\n",
      "Epoch 8/8\n",
      "13/13 [==============================] - 498s 38s/step - loss: 0.6928 - accuracy: 0.5288 - val_loss: 0.6907 - val_accuracy: 0.6791\n"
     ]
    }
   ],
   "source": [
    "r = model.fit_generator(\n",
    "  training_set,\n",
    "  validation_data=test_set,\n",
    "  epochs=8,\n",
    "  steps_per_epoch=len(training_set),\n",
    "  validation_steps=len(test_set)\n",
    ")"
   ]
  },
  {
   "cell_type": "code",
   "execution_count": 30,
   "id": "51ae7efb",
   "metadata": {},
   "outputs": [
    {
     "data": {
      "image/png": "[encoded data removed]",
      "text/plain": [
       "<Figure size 432x288 with 1 Axes>"
      ]
     },
     "metadata": {
      "needs_background": "light"
     },
     "output_type": "display_data"
    },
    {
     "data": {
      "image/png": "[encoded data removed]",
      "text/plain": [
       "<Figure size 432x288 with 1 Axes>"
      ]
     },
     "metadata": {
      "needs_background": "light"
     },
     "output_type": "display_data"
    },
    {
     "data": {
      "text/plain": [
       "<Figure size 432x288 with 0 Axes>"
      ]
     },
     "metadata": {},
     "output_type": "display_data"
    }
   ],
   "source": [
    "# plot the loss\n",
    "plt.plot(r.history['loss'], label='train loss')\n",
    "plt.plot(r.history['val_loss'], label='val loss')\n",
    "plt.legend()\n",
    "plt.show()\n",
    "plt.savefig('LossVal_loss')\n",
    "\n",
    "# plot the accuracy\n",
    "plt.plot(r.history['accuracy'], label='train acc')\n",
    "plt.plot(r.history['val_accuracy'], label='val acc')\n",
    "plt.legend()\n",
    "plt.show()\n",
    "plt.savefig('AccVal_acc')"
   ]
  },
  {
   "cell_type": "markdown",
   "id": "9084b402",
   "metadata": {},
   "source": [
    "## The above plot shows that using transfer learning is not a good idea. So lets make our own model!"
   ]
  },
  {
   "cell_type": "code",
   "execution_count": 57,
   "id": "6ca5a4e0",
   "metadata": {},
   "outputs": [],
   "source": [
    "from tensorflow.keras.layers import MaxPooling2D"
   ]
  },
  {
   "cell_type": "code",
   "execution_count": 69,
   "id": "efd501ba",
   "metadata": {},
   "outputs": [
    {
     "name": "stdout",
     "output_type": "stream",
     "text": [
      "Model: \"sequential_2\"\n",
      "_________________________________________________________________\n",
      "Layer (type)                 Output Shape              Param #   \n",
      "=================================================================\n",
      "conv2d_6 (Conv2D)            (None, 224, 224, 16)      208       \n",
      "_________________________________________________________________\n",
      "max_pooling2d_6 (MaxPooling2 (None, 112, 112, 16)      0         \n",
      "_________________________________________________________________\n",
      "conv2d_7 (Conv2D)            (None, 112, 112, 32)      2080      \n",
      "_________________________________________________________________\n",
      "max_pooling2d_7 (MaxPooling2 (None, 56, 56, 32)        0         \n",
      "_________________________________________________________________\n",
      "conv2d_8 (Conv2D)            (None, 56, 56, 64)        8256      \n",
      "_________________________________________________________________\n",
      "max_pooling2d_8 (MaxPooling2 (None, 28, 28, 64)        0         \n",
      "_________________________________________________________________\n",
      "flatten_2 (Flatten)          (None, 50176)             0         \n",
      "_________________________________________________________________\n",
      "dense_4 (Dense)              (None, 500)               25088500  \n",
      "_________________________________________________________________\n",
      "dense_5 (Dense)              (None, 2)                 1002      \n",
      "=================================================================\n",
      "Total params: 25,100,046\n",
      "Trainable params: 25,100,046\n",
      "Non-trainable params: 0\n",
      "_________________________________________________________________\n"
     ]
    }
   ],
   "source": [
    "### Create Model from scratch using CNN\n",
    "model=Sequential()\n",
    "model.add(Conv2D(filters=16,kernel_size=2,padding=\"same\",activation=\"relu\",input_shape=(224,224,3)))\n",
    "model.add(MaxPooling2D(pool_size=2))\n",
    "model.add(Conv2D(filters=32,kernel_size=2,padding=\"same\",activation =\"relu\"))\n",
    "model.add(MaxPooling2D(pool_size=2))\n",
    "model.add(Conv2D(filters=64,kernel_size=2,padding=\"same\",activation=\"relu\"))\n",
    "model.add(MaxPooling2D(pool_size=2))\n",
    "model.add(Flatten())\n",
    "model.add(Dense(500,activation=\"relu\"))\n",
    "model.add(Dense(2,activation=\"softmax\"))\n",
    "model.summary()"
   ]
  },
  {
   "cell_type": "code",
   "execution_count": 70,
   "id": "8583eb91",
   "metadata": {},
   "outputs": [],
   "source": [
    "# tell the model what cost and optimization method to use\n",
    "model.compile(\n",
    "  loss='categorical_crossentropy',\n",
    "  optimizer='adam',\n",
    "  metrics=['accuracy']\n",
    ")"
   ]
  },
  {
   "cell_type": "code",
   "execution_count": 71,
   "id": "e494b41b",
   "metadata": {},
   "outputs": [
    {
     "name": "stdout",
     "output_type": "stream",
     "text": [
      "Epoch 1/30\n",
      "13/13 [==============================] - 12s 913ms/step - loss: 2.4438 - accuracy: 0.5337 - val_loss: 0.6710 - val_accuracy: 0.6791\n",
      "Epoch 2/30\n",
      "13/13 [==============================] - 12s 906ms/step - loss: 0.6830 - accuracy: 0.5938 - val_loss: 0.7008 - val_accuracy: 0.4179\n",
      "Epoch 3/30\n",
      "13/13 [==============================] - 12s 946ms/step - loss: 0.6281 - accuracy: 0.6611 - val_loss: 0.7184 - val_accuracy: 0.4403\n",
      "Epoch 4/30\n",
      "13/13 [==============================] - 15s 1s/step - loss: 0.5556 - accuracy: 0.7163 - val_loss: 0.8483 - val_accuracy: 0.3582\n",
      "Epoch 5/30\n",
      "13/13 [==============================] - 13s 996ms/step - loss: 0.5408 - accuracy: 0.7236 - val_loss: 0.8580 - val_accuracy: 0.4403\n",
      "Epoch 6/30\n",
      "13/13 [==============================] - 13s 962ms/step - loss: 0.4646 - accuracy: 0.7428 - val_loss: 1.1425 - val_accuracy: 0.3433\n",
      "Epoch 7/30\n",
      "13/13 [==============================] - 13s 987ms/step - loss: 0.4642 - accuracy: 0.7668 - val_loss: 0.6135 - val_accuracy: 0.6642\n",
      "Epoch 8/30\n",
      "13/13 [==============================] - 13s 966ms/step - loss: 0.4729 - accuracy: 0.7596 - val_loss: 0.8153 - val_accuracy: 0.4701\n",
      "Epoch 9/30\n",
      "13/13 [==============================] - 13s 973ms/step - loss: 0.4498 - accuracy: 0.7764 - val_loss: 0.8343 - val_accuracy: 0.4925\n",
      "Epoch 10/30\n",
      "13/13 [==============================] - 13s 981ms/step - loss: 0.4189 - accuracy: 0.7981 - val_loss: 0.7899 - val_accuracy: 0.5075\n",
      "Epoch 11/30\n",
      "13/13 [==============================] - 13s 984ms/step - loss: 0.3781 - accuracy: 0.8341 - val_loss: 0.8423 - val_accuracy: 0.5448\n",
      "Epoch 12/30\n",
      "13/13 [==============================] - 13s 972ms/step - loss: 0.3656 - accuracy: 0.8317 - val_loss: 0.5249 - val_accuracy: 0.7463\n",
      "Epoch 13/30\n",
      "13/13 [==============================] - 13s 967ms/step - loss: 0.3286 - accuracy: 0.8726 - val_loss: 0.7019 - val_accuracy: 0.5746\n",
      "Epoch 14/30\n",
      "13/13 [==============================] - 13s 1s/step - loss: 0.3471 - accuracy: 0.8654 - val_loss: 0.5736 - val_accuracy: 0.7090\n",
      "Epoch 15/30\n",
      "13/13 [==============================] - 13s 1s/step - loss: 0.2535 - accuracy: 0.9014 - val_loss: 0.4998 - val_accuracy: 0.7015\n",
      "Epoch 16/30\n",
      "13/13 [==============================] - 13s 987ms/step - loss: 0.1944 - accuracy: 0.9375 - val_loss: 0.4496 - val_accuracy: 0.7463\n",
      "Epoch 17/30\n",
      "13/13 [==============================] - 13s 1s/step - loss: 0.1797 - accuracy: 0.9423 - val_loss: 0.3922 - val_accuracy: 0.7985\n",
      "Epoch 18/30\n",
      "13/13 [==============================] - 13s 976ms/step - loss: 0.1877 - accuracy: 0.9327 - val_loss: 0.2441 - val_accuracy: 0.9104\n",
      "Epoch 19/30\n",
      "13/13 [==============================] - 13s 1s/step - loss: 0.1523 - accuracy: 0.9471 - val_loss: 0.3684 - val_accuracy: 0.8060\n",
      "Epoch 20/30\n",
      "13/13 [==============================] - 13s 1s/step - loss: 0.1452 - accuracy: 0.9399 - val_loss: 0.3779 - val_accuracy: 0.8284\n",
      "Epoch 21/30\n",
      "13/13 [==============================] - 13s 982ms/step - loss: 0.1544 - accuracy: 0.9447 - val_loss: 0.2822 - val_accuracy: 0.8955\n",
      "Epoch 22/30\n",
      "13/13 [==============================] - 12s 960ms/step - loss: 0.1166 - accuracy: 0.9639 - val_loss: 0.2238 - val_accuracy: 0.9030\n",
      "Epoch 23/30\n",
      "13/13 [==============================] - 12s 960ms/step - loss: 0.1323 - accuracy: 0.9567 - val_loss: 0.2854 - val_accuracy: 0.8507\n",
      "Epoch 24/30\n",
      "13/13 [==============================] - 12s 961ms/step - loss: 0.0978 - accuracy: 0.9688 - val_loss: 0.3161 - val_accuracy: 0.8433\n",
      "Epoch 25/30\n",
      "13/13 [==============================] - 13s 984ms/step - loss: 0.1141 - accuracy: 0.9639 - val_loss: 0.6238 - val_accuracy: 0.7537\n",
      "Epoch 26/30\n",
      "13/13 [==============================] - 13s 976ms/step - loss: 0.1520 - accuracy: 0.9543 - val_loss: 0.2765 - val_accuracy: 0.8433\n",
      "Epoch 27/30\n",
      "13/13 [==============================] - 13s 967ms/step - loss: 0.1303 - accuracy: 0.9567 - val_loss: 0.3741 - val_accuracy: 0.8507\n",
      "Epoch 28/30\n",
      "13/13 [==============================] - 12s 952ms/step - loss: 0.1445 - accuracy: 0.9543 - val_loss: 0.2679 - val_accuracy: 0.8582\n",
      "Epoch 29/30\n",
      "13/13 [==============================] - 13s 978ms/step - loss: 0.1490 - accuracy: 0.9495 - val_loss: 0.5699 - val_accuracy: 0.7910\n",
      "Epoch 30/30\n",
      "13/13 [==============================] - 13s 972ms/step - loss: 0.0944 - accuracy: 0.9784 - val_loss: 0.2318 - val_accuracy: 0.9104\n"
     ]
    }
   ],
   "source": [
    "r = model.fit_generator(\n",
    "  training_set,\n",
    "  validation_data=test_set,\n",
    "  epochs=30,\n",
    "  steps_per_epoch=len(training_set),\n",
    "  validation_steps=len(test_set)\n",
    ")"
   ]
  },
  {
   "cell_type": "code",
   "execution_count": 72,
   "id": "6769826d",
   "metadata": {},
   "outputs": [
    {
     "data": {
      "image/png": "[encoded data removed]",
      "text/plain": [
       "<Figure size 432x288 with 1 Axes>"
      ]
     },
     "metadata": {
      "needs_background": "light"
     },
     "output_type": "display_data"
    },
    {
     "data": {
      "image/png": "[encoded data removed]",
      "text/plain": [
       "<Figure size 432x288 with 1 Axes>"
      ]
     },
     "metadata": {
      "needs_background": "light"
     },
     "output_type": "display_data"
    },
    {
     "data": {
      "text/plain": [
       "<Figure size 432x288 with 0 Axes>"
      ]
     },
     "metadata": {},
     "output_type": "display_data"
    }
   ],
   "source": [
    "# plot the loss\n",
    "plt.plot(r.history['loss'], label='train loss')\n",
    "plt.plot(r.history['val_loss'], label='val loss')\n",
    "plt.legend()\n",
    "plt.show()\n",
    "plt.savefig('LossVal_loss')\n",
    "\n",
    "# plot the accuracy\n",
    "plt.plot(r.history['accuracy'], label='train acc')\n",
    "plt.plot(r.history['val_accuracy'], label='val acc')\n",
    "plt.legend()\n",
    "plt.show()\n",
    "plt.savefig('AccVal_acc')"
   ]
  },
  {
   "cell_type": "code",
   "execution_count": 73,
   "id": "68885255",
   "metadata": {},
   "outputs": [],
   "source": [
    "# save it as a h5 file\n",
    "\n",
    "\n",
    "from tensorflow.keras.models import load_model\n",
    "\n",
    "model.save('model_vgg19.h5')"
   ]
  },
  {
   "cell_type": "code",
   "execution_count": 197,
   "id": "716cef28",
   "metadata": {},
   "outputs": [],
   "source": [
    "y_pred = model.predict(test_set)"
   ]
  },
  {
   "cell_type": "code",
   "execution_count": 198,
   "id": "e6c849c4",
   "metadata": {},
   "outputs": [
    {
     "data": {
      "text/plain": [
       "array([[9.99952912e-01, 4.70878913e-05],\n",
       "       [1.03457287e-01, 8.96542728e-01],\n",
       "       [9.97314513e-01, 2.68548494e-03],\n",
       "       [9.99098659e-01, 9.01379390e-04],\n",
       "       [9.51626956e-01, 4.83729839e-02],\n",
       "       [7.74437010e-01, 2.25562960e-01],\n",
       "       [6.35656416e-01, 3.64343613e-01],\n",
       "       [9.16584611e-01, 8.34153369e-02],\n",
       "       [5.61043359e-02, 9.43895638e-01],\n",
       "       [9.99986768e-01, 1.31794650e-05],\n",
       "       [1.99468091e-01, 8.00531864e-01],\n",
       "       [2.56560296e-01, 7.43439734e-01],\n",
       "       [6.61285669e-02, 9.33871388e-01],\n",
       "       [1.08279690e-01, 8.91720295e-01],\n",
       "       [1.12875268e-01, 8.87124717e-01],\n",
       "       [9.99053061e-01, 9.46951623e-04],\n",
       "       [1.00000000e+00, 8.67493360e-13],\n",
       "       [6.40381351e-02, 9.35961902e-01],\n",
       "       [9.55738127e-01, 4.42618839e-02],\n",
       "       [6.32538617e-01, 3.67461383e-01],\n",
       "       [2.30919898e-01, 7.69080102e-01],\n",
       "       [5.85951693e-02, 9.41404819e-01],\n",
       "       [9.97665405e-01, 2.33457820e-03],\n",
       "       [8.29894990e-02, 9.17010427e-01],\n",
       "       [5.99868819e-02, 9.40013051e-01],\n",
       "       [9.81664956e-01, 1.83350537e-02],\n",
       "       [9.99999523e-01, 4.20623138e-07],\n",
       "       [7.38092810e-02, 9.26190674e-01],\n",
       "       [9.99833941e-01, 1.66063182e-04],\n",
       "       [1.42770270e-02, 9.85722959e-01],\n",
       "       [1.78069398e-01, 8.21930587e-01],\n",
       "       [9.99644399e-01, 3.55637749e-04],\n",
       "       [1.59877226e-01, 8.40122759e-01],\n",
       "       [9.72687066e-01, 2.73128860e-02],\n",
       "       [9.96702492e-01, 3.29748821e-03],\n",
       "       [9.99984145e-01, 1.58216972e-05],\n",
       "       [3.82240087e-01, 6.17759883e-01],\n",
       "       [1.51691809e-01, 8.48308265e-01],\n",
       "       [5.21501184e-01, 4.78498876e-01],\n",
       "       [7.41064548e-02, 9.25893486e-01],\n",
       "       [9.99999881e-01, 1.23738872e-07],\n",
       "       [9.50995624e-01, 4.90043536e-02],\n",
       "       [3.47870067e-02, 9.65212941e-01],\n",
       "       [2.58166287e-02, 9.74183321e-01],\n",
       "       [9.97976243e-01, 2.02375138e-03],\n",
       "       [7.09707290e-02, 9.29029226e-01],\n",
       "       [9.99992013e-01, 7.94251355e-06],\n",
       "       [9.99896049e-01, 1.03919985e-04],\n",
       "       [9.53626484e-02, 9.04637337e-01],\n",
       "       [1.70922652e-01, 8.29077363e-01],\n",
       "       [8.28009844e-01, 1.71990186e-01],\n",
       "       [2.21207783e-01, 7.78792262e-01],\n",
       "       [1.00000000e+00, 9.97177008e-09],\n",
       "       [3.38221639e-01, 6.61778331e-01],\n",
       "       [4.62730601e-02, 9.53726888e-01],\n",
       "       [1.58376753e-01, 8.41623247e-01],\n",
       "       [9.99765575e-01, 2.34387990e-04],\n",
       "       [9.93486762e-01, 6.51320815e-03],\n",
       "       [9.99945045e-01, 5.49035103e-05],\n",
       "       [9.73084033e-01, 2.69159693e-02],\n",
       "       [9.99955773e-01, 4.42032288e-05],\n",
       "       [9.91109848e-01, 8.89012031e-03],\n",
       "       [7.25674152e-01, 2.74325848e-01],\n",
       "       [9.66201961e-01, 3.37980203e-02],\n",
       "       [9.79732394e-01, 2.02675536e-02],\n",
       "       [4.59227800e-01, 5.40772200e-01],\n",
       "       [5.65969944e-01, 4.34030026e-01],\n",
       "       [1.00000000e+00, 2.77607928e-12],\n",
       "       [9.96334791e-01, 3.66523722e-03],\n",
       "       [1.00000000e+00, 5.47564198e-08],\n",
       "       [9.90989029e-01, 9.01096221e-03],\n",
       "       [9.99910831e-01, 8.91257005e-05],\n",
       "       [9.99103367e-01, 8.96579586e-04],\n",
       "       [8.54812086e-01, 1.45187855e-01],\n",
       "       [3.17622274e-01, 6.82377815e-01],\n",
       "       [9.99146938e-01, 8.53093283e-04],\n",
       "       [1.00000000e+00, 5.70559155e-09],\n",
       "       [1.52401105e-01, 8.47598851e-01],\n",
       "       [7.66378760e-01, 2.33621255e-01],\n",
       "       [5.68372086e-02, 9.43162799e-01],\n",
       "       [1.00000000e+00, 2.01806785e-08],\n",
       "       [1.00000000e+00, 5.84229401e-11],\n",
       "       [9.99764860e-01, 2.35155559e-04],\n",
       "       [9.94047403e-01, 5.95261762e-03],\n",
       "       [1.97351724e-01, 8.02648306e-01],\n",
       "       [9.99999404e-01, 5.47969478e-07],\n",
       "       [9.99999166e-01, 8.42600912e-07],\n",
       "       [1.00000000e+00, 4.13567598e-08],\n",
       "       [1.84004217e-01, 8.15995753e-01],\n",
       "       [8.18329394e-01, 1.81670621e-01],\n",
       "       [2.58840412e-01, 7.41159558e-01],\n",
       "       [9.99999523e-01, 4.34001635e-07],\n",
       "       [3.03350061e-01, 6.96649969e-01],\n",
       "       [6.45255923e-01, 3.54744166e-01],\n",
       "       [9.93663192e-01, 6.33677747e-03],\n",
       "       [9.98676598e-01, 1.32339681e-03],\n",
       "       [3.62690866e-01, 6.37309134e-01],\n",
       "       [1.16615832e-01, 8.83384168e-01],\n",
       "       [9.99999046e-01, 9.07326410e-07],\n",
       "       [9.97457683e-01, 2.54229573e-03],\n",
       "       [1.80319309e-01, 8.19680691e-01],\n",
       "       [1.00000000e+00, 2.69758077e-15],\n",
       "       [9.99956131e-01, 4.38864481e-05],\n",
       "       [3.10470741e-02, 9.68952894e-01],\n",
       "       [9.99897122e-01, 1.02843282e-04],\n",
       "       [9.99992371e-01, 7.60556259e-06],\n",
       "       [9.99970317e-01, 2.96294511e-05],\n",
       "       [1.00000000e+00, 4.98808893e-13],\n",
       "       [9.93602693e-01, 6.39728038e-03],\n",
       "       [9.61309373e-02, 9.03869033e-01],\n",
       "       [9.98680055e-01, 1.31994137e-03],\n",
       "       [9.99993682e-01, 6.35010201e-06],\n",
       "       [3.73773783e-01, 6.26226187e-01],\n",
       "       [1.12407587e-01, 8.87592375e-01],\n",
       "       [9.99999881e-01, 1.28908923e-07],\n",
       "       [7.96658397e-01, 2.03341648e-01],\n",
       "       [5.66453785e-02, 9.43354607e-01],\n",
       "       [9.99997616e-01, 2.35871812e-06],\n",
       "       [9.99999881e-01, 1.15462775e-07],\n",
       "       [9.99999881e-01, 1.21638223e-07],\n",
       "       [2.67847516e-02, 9.73215222e-01],\n",
       "       [6.80585355e-02, 9.31941450e-01],\n",
       "       [6.69678077e-02, 9.33032215e-01],\n",
       "       [9.99215484e-01, 7.84497010e-04],\n",
       "       [9.01410997e-01, 9.85890850e-02],\n",
       "       [1.00000000e+00, 7.67390166e-14],\n",
       "       [3.30495268e-01, 6.69504702e-01],\n",
       "       [1.66527465e-01, 8.33472550e-01],\n",
       "       [5.43065257e-02, 9.45693433e-01],\n",
       "       [9.99110281e-01, 8.89751886e-04],\n",
       "       [9.85880643e-02, 9.01411951e-01],\n",
       "       [9.98479307e-01, 1.52072648e-03],\n",
       "       [9.80137646e-01, 1.98623482e-02],\n",
       "       [9.50906694e-01, 4.90933321e-02]], dtype=float32)"
      ]
     },
     "execution_count": 198,
     "metadata": {},
     "output_type": "execute_result"
    }
   ],
   "source": [
    "y_pred"
   ]
  },
  {
   "cell_type": "code",
   "execution_count": 199,
   "id": "27340e01",
   "metadata": {},
   "outputs": [],
   "source": [
    "import numpy as np\n",
    "y_pred = np.argmax(y_pred, axis=1)"
   ]
  },
  {
   "cell_type": "code",
   "execution_count": 200,
   "id": "c94a6707",
   "metadata": {},
   "outputs": [
    {
     "data": {
      "text/plain": [
       "array([0, 1, 0, 0, 0, 0, 0, 0, 1, 0, 1, 1, 1, 1, 1, 0, 0, 1, 0, 0, 1, 1,\n",
       "       0, 1, 1, 0, 0, 1, 0, 1, 1, 0, 1, 0, 0, 0, 1, 1, 0, 1, 0, 0, 1, 1,\n",
       "       0, 1, 0, 0, 1, 1, 0, 1, 0, 1, 1, 1, 0, 0, 0, 0, 0, 0, 0, 0, 0, 1,\n",
       "       0, 0, 0, 0, 0, 0, 0, 0, 1, 0, 0, 1, 0, 1, 0, 0, 0, 0, 1, 0, 0, 0,\n",
       "       1, 0, 1, 0, 1, 0, 0, 0, 1, 1, 0, 0, 1, 0, 0, 1, 0, 0, 0, 0, 0, 1,\n",
       "       0, 0, 1, 1, 0, 0, 1, 0, 0, 0, 1, 1, 1, 0, 0, 0, 1, 1, 1, 0, 1, 0,\n",
       "       0, 0], dtype=int64)"
      ]
     },
     "execution_count": 200,
     "metadata": {},
     "output_type": "execute_result"
    }
   ],
   "source": [
    "y_pred"
   ]
  },
  {
   "cell_type": "code",
   "execution_count": 2,
   "id": "d22a80ca",
   "metadata": {},
   "outputs": [],
   "source": [
    "from tensorflow.keras.models import load_model\n",
    "from tensorflow.keras.preprocessing import image"
   ]
  },
  {
   "cell_type": "code",
   "execution_count": 3,
   "id": "3699304b",
   "metadata": {},
   "outputs": [],
   "source": [
    "model=load_model('model_vgg19.h5')"
   ]
  },
  {
   "cell_type": "code",
   "execution_count": 67,
   "id": "7ae6dbd5",
   "metadata": {},
   "outputs": [],
   "source": [
    "img=image.load_img('Dataset/Train/Uninfected/C2NThinF_IMG_20150604_114631_cell_141.png',target_size=(224,224))"
   ]
  },
  {
   "cell_type": "code",
   "execution_count": 68,
   "id": "b4e6e7ba",
   "metadata": {},
   "outputs": [
    {
     "data": {
      "image/png": "[encoded data removed]",
      "text/plain": [
       "<PIL.Image.Image image mode=RGB size=224x224 at 0x2A82575F9D0>"
      ]
     },
     "execution_count": 68,
     "metadata": {},
     "output_type": "execute_result"
    }
   ],
   "source": [
    "img"
   ]
  },
  {
   "cell_type": "code",
   "execution_count": 69,
   "id": "b47c3f3b",
   "metadata": {},
   "outputs": [
    {
     "data": {
      "text/plain": [
       "array([[[0., 0., 0.],\n",
       "        [0., 0., 0.],\n",
       "        [0., 0., 0.],\n",
       "        ...,\n",
       "        [0., 0., 0.],\n",
       "        [0., 0., 0.],\n",
       "        [0., 0., 0.]],\n",
       "\n",
       "       [[0., 0., 0.],\n",
       "        [0., 0., 0.],\n",
       "        [0., 0., 0.],\n",
       "        ...,\n",
       "        [0., 0., 0.],\n",
       "        [0., 0., 0.],\n",
       "        [0., 0., 0.]],\n",
       "\n",
       "       [[0., 0., 0.],\n",
       "        [0., 0., 0.],\n",
       "        [0., 0., 0.],\n",
       "        ...,\n",
       "        [0., 0., 0.],\n",
       "        [0., 0., 0.],\n",
       "        [0., 0., 0.]],\n",
       "\n",
       "       ...,\n",
       "\n",
       "       [[0., 0., 0.],\n",
       "        [0., 0., 0.],\n",
       "        [0., 0., 0.],\n",
       "        ...,\n",
       "        [0., 0., 0.],\n",
       "        [0., 0., 0.],\n",
       "        [0., 0., 0.]],\n",
       "\n",
       "       [[0., 0., 0.],\n",
       "        [0., 0., 0.],\n",
       "        [0., 0., 0.],\n",
       "        ...,\n",
       "        [0., 0., 0.],\n",
       "        [0., 0., 0.],\n",
       "        [0., 0., 0.]],\n",
       "\n",
       "       [[0., 0., 0.],\n",
       "        [0., 0., 0.],\n",
       "        [0., 0., 0.],\n",
       "        ...,\n",
       "        [0., 0., 0.],\n",
       "        [0., 0., 0.],\n",
       "        [0., 0., 0.]]], dtype=float32)"
      ]
     },
     "execution_count": 69,
     "metadata": {},
     "output_type": "execute_result"
    }
   ],
   "source": [
    "x=image.img_to_array(img)\n",
    "x"
   ]
  },
  {
   "cell_type": "code",
   "execution_count": 70,
   "id": "05b1d59f",
   "metadata": {},
   "outputs": [
    {
     "data": {
      "text/plain": [
       "(224, 224, 3)"
      ]
     },
     "execution_count": 70,
     "metadata": {},
     "output_type": "execute_result"
    }
   ],
   "source": [
    "x.shape"
   ]
  },
  {
   "cell_type": "code",
   "execution_count": 71,
   "id": "0de49643",
   "metadata": {},
   "outputs": [],
   "source": [
    "x=x/255"
   ]
  },
  {
   "cell_type": "code",
   "execution_count": 72,
   "id": "7ab99dee",
   "metadata": {},
   "outputs": [
    {
     "data": {
      "text/plain": [
       "(1, 224, 224, 3)"
      ]
     },
     "execution_count": 72,
     "metadata": {},
     "output_type": "execute_result"
    }
   ],
   "source": [
    "x=np.expand_dims(x,axis=0)\n",
    "img_data=preprocess_input(x)\n",
    "img_data.shape"
   ]
  },
  {
   "cell_type": "code",
   "execution_count": 73,
   "id": "62dd41da",
   "metadata": {},
   "outputs": [
    {
     "data": {
      "text/plain": [
       "array([[0.02918079, 0.97081923]], dtype=float32)"
      ]
     },
     "execution_count": 73,
     "metadata": {},
     "output_type": "execute_result"
    }
   ],
   "source": [
    "model.predict(img_data)"
   ]
  },
  {
   "cell_type": "code",
   "execution_count": 74,
   "id": "c36dc39b",
   "metadata": {},
   "outputs": [
    {
     "data": {
      "text/plain": [
       "array([1], dtype=int64)"
      ]
     },
     "execution_count": 74,
     "metadata": {},
     "output_type": "execute_result"
    }
   ],
   "source": [
    "a=np.argmax(model.predict(img_data), axis=1)\n",
    "a"
   ]
  },
  {
   "cell_type": "code",
   "execution_count": 75,
   "id": "64cd839d",
   "metadata": {},
   "outputs": [
    {
     "name": "stdout",
     "output_type": "stream",
     "text": [
      "Uninfected\n"
     ]
    }
   ],
   "source": [
    "if(a==[1]):\n",
    "    print(\"Uninfected\")\n",
    "else:\n",
    "    print(\"Infected\")"
   ]
  },
  {
   "cell_type": "code",
   "execution_count": null,
   "id": "0e83f16e",
   "metadata": {},
   "outputs": [],
   "source": []
  }
 ],
 "metadata": {
  "kernelspec": {
   "display_name": "Python 3",
   "language": "python",
   "name": "python3"
  },
  "language_info": {
   "codemirror_mode": {
    "name": "ipython",
    "version": 3
   },
   "file_extension": ".py",
   "mimetype": "text/x-python",
   "name": "python",
   "nbconvert_exporter": "python",
   "pygments_lexer": "ipython3",
   "version": "3.8.10"
  }
 },
 "nbformat": 4,
 "nbformat_minor": 5
}
